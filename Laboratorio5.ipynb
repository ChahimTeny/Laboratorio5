{
 "cells": [
  {
   "cell_type": "markdown",
   "id": "1b29d133",
   "metadata": {},
   "source": [
    "# Laboratorio 5"
   ]
  },
  {
   "cell_type": "code",
   "execution_count": 1,
   "id": "1f7413e3",
   "metadata": {},
   "outputs": [],
   "source": [
    "import pandas as pd\n",
    "import os\n",
    "import matplotlib.pyplot as plt"
   ]
  },
  {
   "cell_type": "code",
   "execution_count": 8,
   "id": "bc3c6b6e",
   "metadata": {},
   "outputs": [
    {
     "data": {
      "text/html": [
       "<div>\n",
       "<style scoped>\n",
       "    .dataframe tbody tr th:only-of-type {\n",
       "        vertical-align: middle;\n",
       "    }\n",
       "\n",
       "    .dataframe tbody tr th {\n",
       "        vertical-align: top;\n",
       "    }\n",
       "\n",
       "    .dataframe thead th {\n",
       "        text-align: right;\n",
       "    }\n",
       "</style>\n",
       "<table border=\"1\" class=\"dataframe\">\n",
       "  <thead>\n",
       "    <tr style=\"text-align: right;\">\n",
       "      <th></th>\n",
       "      <th>TiendasVentas</th>\n",
       "      <th>Ventas2020</th>\n",
       "      <th>Ventas2021</th>\n",
       "      <th>TiposVenta</th>\n",
       "      <th>MesesOperacion</th>\n",
       "      <th>Contacto</th>\n",
       "      <th>Numero</th>\n",
       "      <th>MetaCumplida</th>\n",
       "    </tr>\n",
       "  </thead>\n",
       "  <tbody>\n",
       "    <tr>\n",
       "      <th>0</th>\n",
       "      <td>Tienda Quetzaltenango</td>\n",
       "      <td>200000</td>\n",
       "      <td>1000</td>\n",
       "      <td>Comida</td>\n",
       "      <td>13</td>\n",
       "      <td>Marta Xoc</td>\n",
       "      <td>50202510</td>\n",
       "      <td>Yes</td>\n",
       "    </tr>\n",
       "    <tr>\n",
       "      <th>1</th>\n",
       "      <td>Tienda Sololá</td>\n",
       "      <td>150000</td>\n",
       "      <td>0</td>\n",
       "      <td>Calzado</td>\n",
       "      <td>12</td>\n",
       "      <td>Ester Max</td>\n",
       "      <td>45102301</td>\n",
       "      <td>Yes</td>\n",
       "    </tr>\n",
       "    <tr>\n",
       "      <th>2</th>\n",
       "      <td>Tienda Mazatenango</td>\n",
       "      <td>178500</td>\n",
       "      <td>3000</td>\n",
       "      <td>Comida</td>\n",
       "      <td>14</td>\n",
       "      <td>Juan Tech</td>\n",
       "      <td>35202123</td>\n",
       "      <td>Yes</td>\n",
       "    </tr>\n",
       "    <tr>\n",
       "      <th>3</th>\n",
       "      <td>Tienda Coban</td>\n",
       "      <td>50000</td>\n",
       "      <td>5000</td>\n",
       "      <td>Calzado</td>\n",
       "      <td>5</td>\n",
       "      <td>Moli Santay</td>\n",
       "      <td>35662030</td>\n",
       "      <td>No</td>\n",
       "    </tr>\n",
       "    <tr>\n",
       "      <th>4</th>\n",
       "      <td>Tienda San Marcos</td>\n",
       "      <td>0</td>\n",
       "      <td>500</td>\n",
       "      <td>Artículos</td>\n",
       "      <td>1</td>\n",
       "      <td>Edwin Sac</td>\n",
       "      <td>47890145</td>\n",
       "      <td>No</td>\n",
       "    </tr>\n",
       "  </tbody>\n",
       "</table>\n",
       "</div>"
      ],
      "text/plain": [
       "           TiendasVentas  Ventas2020  Ventas2021 TiposVenta  MesesOperacion  \\\n",
       "0  Tienda Quetzaltenango      200000        1000     Comida              13   \n",
       "1          Tienda Sololá      150000           0    Calzado              12   \n",
       "2     Tienda Mazatenango      178500        3000     Comida              14   \n",
       "3           Tienda Coban       50000        5000    Calzado               5   \n",
       "4      Tienda San Marcos           0         500  Artículos               1   \n",
       "\n",
       "      Contacto    Numero MetaCumplida  \n",
       "0    Marta Xoc  50202510          Yes  \n",
       "1    Ester Max  45102301          Yes  \n",
       "2    Juan Tech  35202123          Yes  \n",
       "3  Moli Santay  35662030           No  \n",
       "4    Edwin Sac  47890145           No  "
      ]
     },
     "execution_count": 8,
     "metadata": {},
     "output_type": "execute_result"
    }
   ],
   "source": [
    "path = \"C:/Users/chahi/Desktop\"\n",
    "file = \"Laboratorio5/operacionesmayo.csv\"\n",
    "data = pd.read_csv(path+\"/\"+file)\n",
    "data.head()"
   ]
  },
  {
   "cell_type": "code",
   "execution_count": 4,
   "id": "b1d93f2d",
   "metadata": {},
   "outputs": [
    {
     "data": {
      "text/html": [
       "<div>\n",
       "<style scoped>\n",
       "    .dataframe tbody tr th:only-of-type {\n",
       "        vertical-align: middle;\n",
       "    }\n",
       "\n",
       "    .dataframe tbody tr th {\n",
       "        vertical-align: top;\n",
       "    }\n",
       "\n",
       "    .dataframe thead th {\n",
       "        text-align: right;\n",
       "    }\n",
       "</style>\n",
       "<table border=\"1\" class=\"dataframe\">\n",
       "  <thead>\n",
       "    <tr style=\"text-align: right;\">\n",
       "      <th></th>\n",
       "      <th>TiendasVentas</th>\n",
       "    </tr>\n",
       "  </thead>\n",
       "  <tbody>\n",
       "    <tr>\n",
       "      <th>0</th>\n",
       "      <td>Tienda Quetzaltenango</td>\n",
       "    </tr>\n",
       "    <tr>\n",
       "      <th>1</th>\n",
       "      <td>Tienda Sololá</td>\n",
       "    </tr>\n",
       "    <tr>\n",
       "      <th>2</th>\n",
       "      <td>Tienda Mazatenango</td>\n",
       "    </tr>\n",
       "    <tr>\n",
       "      <th>6</th>\n",
       "      <td>Tienda Jalapa</td>\n",
       "    </tr>\n",
       "    <tr>\n",
       "      <th>8</th>\n",
       "      <td>Tienda Zacapa</td>\n",
       "    </tr>\n",
       "    <tr>\n",
       "      <th>9</th>\n",
       "      <td>Tienda Jutiapa</td>\n",
       "    </tr>\n",
       "    <tr>\n",
       "      <th>11</th>\n",
       "      <td>Tienda Toto</td>\n",
       "    </tr>\n",
       "    <tr>\n",
       "      <th>14</th>\n",
       "      <td>Tienda Sija</td>\n",
       "    </tr>\n",
       "    <tr>\n",
       "      <th>15</th>\n",
       "      <td>Tienda Antigua</td>\n",
       "    </tr>\n",
       "  </tbody>\n",
       "</table>\n",
       "</div>"
      ],
      "text/plain": [
       "            TiendasVentas\n",
       "0   Tienda Quetzaltenango\n",
       "1           Tienda Sololá\n",
       "2      Tienda Mazatenango\n",
       "6           Tienda Jalapa\n",
       "8           Tienda Zacapa\n",
       "9          Tienda Jutiapa\n",
       "11            Tienda Toto\n",
       "14            Tienda Sija\n",
       "15         Tienda Antigua"
      ]
     },
     "execution_count": 4,
     "metadata": {},
     "output_type": "execute_result"
    }
   ],
   "source": [
    "metascump = data.loc[data['MetaCumplida'] == 'Yes', [\"TiendasVentas\"]]\n",
    "metascump.head(20)"
   ]
  },
  {
   "cell_type": "markdown",
   "id": "e97a54fd",
   "metadata": {},
   "source": [
    "# Grafica 2020"
   ]
  },
  {
   "cell_type": "code",
   "execution_count": 12,
   "id": "fba1ff3e",
   "metadata": {},
   "outputs": [],
   "source": [
    "#Impresion ordenada\n",
    "%matplotlib inline"
   ]
  },
  {
   "cell_type": "code",
   "execution_count": 29,
   "id": "e03cbf37",
   "metadata": {},
   "outputs": [
    {
     "data": {
      "image/png": "[encoded data removed]",
      "text/plain": [
       "<Figure size 432x288 with 1 Axes>"
      ]
     },
     "metadata": {
      "needs_background": "light"
     },
     "output_type": "display_data"
    }
   ],
   "source": [
    "plt.hist(data[\"Ventas2020\"], bins=30)\n",
    "plt.xlabel(\"TiendasVentas\")\n",
    "plt.ylabel(\"Contacto\")\n",
    "#Guardar la gráfica\n",
    "plt.savefig(\"C:/Users/chahi/Desktop\")"
   ]
  },
  {
   "cell_type": "markdown",
   "id": "861649e6",
   "metadata": {},
   "source": [
    "# Grafica 2021"
   ]
  },
  {
   "cell_type": "code",
   "execution_count": 30,
   "id": "ed23d7e0",
   "metadata": {},
   "outputs": [
    {
     "data": {
      "image/png": "[encoded data removed]",
      "text/plain": [
       "<Figure size 432x288 with 1 Axes>"
      ]
     },
     "metadata": {
      "needs_background": "light"
     },
     "output_type": "display_data"
    }
   ],
   "source": [
    "plt.hist(data[\"Ventas2021\"], bins=30)\n",
    "plt.xlabel(\"TiendasVentas\")\n",
    "plt.ylabel(\"Contacto\")\n",
    "#Guardar la gráfica\n",
    "plt.savefig(\"C:/Users/chahi/Desktop\")"
   ]
  },
  {
   "cell_type": "code",
   "execution_count": null,
   "id": "358a5df5",
   "metadata": {},
   "outputs": [],
   "source": []
  }
 ],
 "metadata": {
  "kernelspec": {
   "display_name": "Python 3 (ipykernel)",
   "language": "python",
   "name": "python3"
  },
  "language_info": {
   "codemirror_mode": {
    "name": "ipython",
    "version": 3
   },
   "file_extension": ".py",
   "mimetype": "text/x-python",
   "name": "python",
   "nbconvert_exporter": "python",
   "pygments_lexer": "ipython3",
   "version": "3.9.7"
  }
 },
 "nbformat": 4,
 "nbformat_minor": 5
}
